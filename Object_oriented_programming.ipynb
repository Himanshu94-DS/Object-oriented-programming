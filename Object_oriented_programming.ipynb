{
 "cells": [
  {
   "cell_type": "markdown",
   "id": "f086fc9d-3bc5-4cd4-aff7-bea015950265",
   "metadata": {},
   "source": [
    "### Object oriented programming\n"
   ]
  },
  {
   "cell_type": "code",
   "execution_count": null,
   "id": "6aa14811-faa3-45aa-850a-7101658a604b",
   "metadata": {
    "editable": true,
    "slideshow": {
     "slide_type": ""
    },
    "tags": []
   },
   "outputs": [],
   "source": [
    "##1. Explain the importance of Functions.\n",
    "\n",
    "\n",
    "# Functions in python are essential for structuring and orgnizing code , promoting reusability , and enhancing readability.\n",
    "# 1. Resuability of code :- function allow you to write a block of code once and reuse it multiple time.\n",
    "# 2. Modularity and orgnizing :- Function break down complex problem into smaller manageable parts.\n",
    "#                                This improve readability and maintainability.\n",
    "# 3. Abstraction :- Function hide implementation details,allowing users to focus on functionality rather than how it works intearnally\n",
    "# 4. flexibility :- Function can accept inputs as arguments and return outputs, making them dynamic and adaptable. "
   ]
  },
  {
   "cell_type": "code",
   "execution_count": 59,
   "id": "c7bf1358-027f-42f4-abf6-78387e4130e7",
   "metadata": {
    "editable": true,
    "slideshow": {
     "slide_type": ""
    },
    "tags": []
   },
   "outputs": [],
   "source": [
    "##2. Write a basic function to greet students.\n",
    "\n",
    "\n",
    "\n",
    "# def  greet_students(name):\n",
    "#     print(f\" Hello {name}, How are are you.\") "
   ]
  },
  {
   "cell_type": "code",
   "execution_count": 57,
   "id": "d49f1910-d84f-4181-9204-d03e0160e010",
   "metadata": {},
   "outputs": [],
   "source": [
    "##3 What is the difference between print and return statements. \n",
    "\n",
    "\n",
    "\n",
    "#(i) print is used just for output the given element or string onto the screen. whereas, return statement return a final value \n",
    "# of a function execution which may be used further in the code \n",
    "\n",
    "#(ii) print can be used within function or not. but return always used within function."
   ]
  },
  {
   "cell_type": "code",
   "execution_count": 37,
   "id": "94241b4d-417f-4e03-b289-5a40a0e21e67",
   "metadata": {},
   "outputs": [],
   "source": [
    "##4 What are *args and **kwargs.\n",
    "\n",
    "\n",
    "\n",
    "# *args and **kwargs are special syntaxes used in function definition to handle a variable number of arguments. \n",
    "#  They allow function to accept an arbitrary number of positional and keyword arguments, respectivey. "
   ]
  },
  {
   "cell_type": "code",
   "execution_count": 38,
   "id": "297fed5f-eb58-416e-bb68-387f249ddc77",
   "metadata": {},
   "outputs": [],
   "source": [
    "##5 Explain the iterator function.\n",
    "\n",
    "\n",
    "\n",
    "# An iterator is a special object in python that allow you traverse through all the element of a collection \n",
    "#  like list, srting, tuple and dictionary."
   ]
  },
  {
   "cell_type": "code",
   "execution_count": 68,
   "id": "40b0cf41-6836-40ec-83df-c576f2c3e295",
   "metadata": {},
   "outputs": [],
   "source": [
    "##6  Write a code that generates the squares of numbers from 1 to n using a generator.\n",
    "\n",
    "\n",
    "\n",
    "# def square_gen(n):\n",
    "#     for i in range(1,n+1):\n",
    "#        yield i**2 \n",
    "# gen = square_gen(10)\n",
    "# next(gen)"
   ]
  },
  {
   "cell_type": "code",
   "execution_count": 40,
   "id": "ed122439-17c5-492a-8553-11f7ad1f8a8f",
   "metadata": {},
   "outputs": [],
   "source": [
    "##7 Write a code that generates palindromic numbers up to n using a generator.\n",
    "\n",
    "\n",
    "\n",
    "\n",
    "# def palindromic_numbers(n):\n",
    "#     for i in range(n+1):\n",
    "#         if str(i) == str(i)[::-1]:\n",
    "#             yield i\n",
    "# a = palindromic_numbers(100)\n",
    "# next(a)"
   ]
  },
  {
   "cell_type": "code",
   "execution_count": 41,
   "id": "a059736e-e980-4a07-a818-64537244d2d8",
   "metadata": {},
   "outputs": [],
   "source": [
    "##8   Write a code that generates even numbers from 2 to n using a generator.\n",
    "\n",
    "\n",
    "\n",
    "\n",
    "# def square_gen(n):\n",
    "#     for i in range(2,n+1):\n",
    "#         if i % 2 == 0:\n",
    "#             yield i\n",
    "# gen = square_gen(10)\n",
    "# next(gen)"
   ]
  },
  {
   "cell_type": "code",
   "execution_count": 1,
   "id": "8a2f0a56-c93f-4cf5-827c-ee125bee206c",
   "metadata": {},
   "outputs": [],
   "source": [
    "##9 Write a code that generates powers of two up to n using a generator.\n",
    "\n",
    "\n",
    "\n",
    "\n",
    "# def square_gen(n):\n",
    "#     for i in range(1,n):\n",
    "#        yield 2**1\n",
    "# gen = square_gen(10)\n",
    "# next(gen)"
   ]
  },
  {
   "cell_type": "code",
   "execution_count": 72,
   "id": "3758ee1c-73f0-4071-a328-5af9aa993935",
   "metadata": {},
   "outputs": [],
   "source": [
    "##10 write a code that generates prime number up n using a generator.\n",
    "\n",
    "\n",
    "\n",
    "\n",
    "# def prime_num(n):\n",
    "#     for num in range(2,n+1):\n",
    "#         sqrt = int(num**0.5)+1\n",
    "#         for i in range(2,sqrt):\n",
    "#             if num % i == 0:\n",
    "#                 break\n",
    "#         else:\n",
    "#             yield num"
   ]
  },
  {
   "cell_type": "raw",
   "id": "528265d6-b3bd-4edf-b9b5-27510903f300",
   "metadata": {},
   "source": [
    "## few questions were repeated there ,so I left those question "
   ]
  },
  {
   "cell_type": "code",
   "execution_count": 15,
   "id": "5093e7ad-6579-415a-a8c0-2ef9b0e5a536",
   "metadata": {},
   "outputs": [],
   "source": [
    "##16 Write a code that generates the squares of even numbers from a given list.\n",
    "\n",
    "\n",
    "\n",
    "# def square_of_even(lst):\n",
    "#     square = []\n",
    "#     for i in lst:\n",
    "#         if i % 2 == 0:\n",
    "#             square.append(i**2)\n",
    "#         else:\n",
    "#             pass\n",
    "#     return square\n",
    "# lst = [1,11,10,12,14,13,15,16]\n",
    "# print(square_of_even(lst))        "
   ]
  },
  {
   "cell_type": "code",
   "execution_count": 16,
   "id": "adfb70c3-36c4-4d81-91f3-27ca7a13facf",
   "metadata": {},
   "outputs": [],
   "source": [
    "##17 Write a code that calculates the product of positive numbers from a given list.\n",
    "\n",
    "\n",
    "\n",
    "\n",
    "# def product(num):\n",
    "#     count = 1\n",
    "#     for i in num:\n",
    "#         if i > 0:\n",
    "#             count = count*i\n",
    "#     return count\n",
    "# num = [1,-3,10,3,-4,-5,2]\n",
    "# product(num)    "
   ]
  },
  {
   "cell_type": "code",
   "execution_count": 17,
   "id": "50af13c1-a2c1-4a68-adbc-5382185d26a6",
   "metadata": {},
   "outputs": [],
   "source": [
    "##18 Write a code that doubles the values of odd numbers from a given list.\n",
    "\n",
    "\n",
    "\n",
    "\n",
    "# def square_of_even(lst):\n",
    "#     square = []\n",
    "#     for i in lst:\n",
    "#         if i % 2 != 0:\n",
    "#             square.append(i*2)\n",
    "#         else:\n",
    "#             pass\n",
    "#     return square\n",
    "# lst = [1,11,10,12,14,13,15,16]\n",
    "# print(square_of_even(lst))        "
   ]
  },
  {
   "cell_type": "code",
   "execution_count": 3,
   "id": "40155540-9727-4df5-b42f-7ebf124a5649",
   "metadata": {},
   "outputs": [],
   "source": [
    "##19 Write a code that calculates the sum of cubes of numbers from a given list.\n",
    "\n",
    "\n",
    "\n",
    "# def square_of_even(lst):\n",
    "#     sum_cube = []\n",
    "#     count = 0\n",
    "#     for i in lst:\n",
    "#        sum_cube.append(i**3)\n",
    "#    for m in range(len(sum_cube)):\n",
    "#        count = count + sum_cube[m]\n",
    "#     return count \n",
    "# lst = [1,2,3,4]\n",
    "# print(square_of_even(lst))    "
   ]
  },
  {
   "cell_type": "code",
   "execution_count": 128,
   "id": "9b483e0a-235b-4d15-8271-a283f7ae3662",
   "metadata": {},
   "outputs": [],
   "source": [
    "##20  Write a code that filters out prime numbers from a given list.\n",
    "\n",
    "\n",
    "\n",
    "\n",
    "# lst = [1,5,7,10,15,20,23,21,29]\n",
    "# for num in lst:\n",
    "#     if num <2:\n",
    "#         continue\n",
    "#     else:\n",
    "#         sqrt = int(num**0.5)+1\n",
    "#         for i in range(2,sqrt):\n",
    "#             if num % i ==0:\n",
    "#                 break\n",
    "#         else:\n",
    "#             print(num)"
   ]
  },
  {
   "cell_type": "code",
   "execution_count": 54,
   "id": "0989d994-a3b7-47e3-b0d5-14fe56347a06",
   "metadata": {},
   "outputs": [],
   "source": [
    "##21  Write a code that uses a lambda function to calculate the sum of two numbers.\n",
    "\n",
    "\n",
    "# add = lambda x,y : x+y\n",
    "# add(2,4)"
   ]
  },
  {
   "cell_type": "code",
   "execution_count": 5,
   "id": "b894774e-b48b-49cf-84fc-8aaf7b3b2937",
   "metadata": {},
   "outputs": [],
   "source": [
    "##22 Write a code that uses a lambda function to calculate the square of a given number.\n",
    "\n",
    "\n",
    "# square = lambda x : x**2\n",
    "# square(4)"
   ]
  },
  {
   "cell_type": "code",
   "execution_count": 6,
   "id": "630d5cdb-d310-46bb-aa1f-2cf8859b3963",
   "metadata": {},
   "outputs": [],
   "source": [
    "##23  Write a code that uses a lambda function to check whether a given number is even or odd.\n",
    "\n",
    "\n",
    "# even_odd = lambda x : \"it is a even number\" if x % 2 == 0 else \"it is a odd number\""
   ]
  },
  {
   "cell_type": "code",
   "execution_count": 57,
   "id": "5b2f532a-a54d-43a7-8cf7-e9eab2fb2ec0",
   "metadata": {},
   "outputs": [],
   "source": [
    "##24  Write a code that uses a lambda function to concatenate two strings.\n",
    "\n",
    "\n",
    "\n",
    "# string  = lambda x,y : x + y\n",
    "# a = \"Hello \"\n",
    "# b = \"himanshu\""
   ]
  },
  {
   "cell_type": "code",
   "execution_count": 10,
   "id": "09926705-9f17-4c5e-9259-d50870ec5255",
   "metadata": {},
   "outputs": [],
   "source": [
    "##25  Write a code that uses a lambda function to find the maximum of three given numbers.\n",
    "\n",
    "\n",
    "\n",
    "# max_num = lambda x,y,z : max(x,y,z)\n",
    "# max_num(2,23,112)"
   ]
  },
  {
   "cell_type": "code",
   "execution_count": 59,
   "id": "9610e7d6-604d-4e4c-af08-f9263c6430e2",
   "metadata": {},
   "outputs": [],
   "source": [
    "##26 What is encapsulation in OOP?\n",
    "\n",
    "\n",
    "\n",
    "# Encapsulation is a fundamental concept in oops that refers to variables and method that operate on that\n",
    "# data into a single unit,usually a class,and restricting direct access to some of the object's component."
   ]
  },
  {
   "cell_type": "code",
   "execution_count": 60,
   "id": "2af1a317-0534-4178-9d0f-131fa31c1d2e",
   "metadata": {},
   "outputs": [],
   "source": [
    "##27 Explain the use of access modifiers in Python classes.\n",
    "\n",
    "\n",
    "\n",
    "# access modifier is used to control the visibility and accessibility of class varibles and methods from outside class. \n",
    "# It can be public, protected, private variable. use such as self.var , self._var , self.__var respectively "
   ]
  },
  {
   "cell_type": "code",
   "execution_count": 61,
   "id": "23675472-178b-4df9-9cea-c207c13a5e79",
   "metadata": {},
   "outputs": [],
   "source": [
    "##28  What is inheritance in OOP.\n",
    "\n",
    "\n",
    "# refer to process of child class recieving the all method and attributes of parents class this process is\n",
    "# called inheritance."
   ]
  },
  {
   "cell_type": "code",
   "execution_count": 62,
   "id": "cb937bb3-3474-4fc5-8117-bb98f9ff1265",
   "metadata": {},
   "outputs": [],
   "source": [
    "##29 Define polymorphism in OOP .\n",
    "\n",
    "\n",
    "# polymorphism allows object of different classes to respond to the same method call in their own specific ways. "
   ]
  },
  {
   "cell_type": "code",
   "execution_count": 63,
   "id": "406e9d44-6123-45ab-b58d-9d625b0cc027",
   "metadata": {},
   "outputs": [],
   "source": [
    "##30 Explain method overriding in Python.\n",
    "\n",
    "\n",
    "\n",
    "#  overriding in python occurs when a child class provides its own implementation of a method already define in its parents and grandparents\n",
    "#  class . when a method is called on an object of the child class , the overriden method in the child class is executed instead of the\n",
    "#  original method in the parents class and grandparents class.     "
   ]
  },
  {
   "cell_type": "code",
   "execution_count": 4,
   "id": "86735745-0373-40b0-9525-7746ce82f3cc",
   "metadata": {},
   "outputs": [],
   "source": [
    "##31  Define a parent class Animal with a method make_sound that prints \"Generic animal sound\". Create a \n",
    "##   child class Dog inheriting from Animal with a method make_sound that prints \"Woof!\"\n",
    "\n",
    "\n",
    "\n",
    "# class Animal:\n",
    "#     def make_sound(self):\n",
    "#         print(\"Generic animal sound\")\n",
    "# class Dog(Animal):\n",
    "#     def make_sound(self):\n",
    "#         print( \"Woof!\")"
   ]
  },
  {
   "cell_type": "code",
   "execution_count": 65,
   "id": "2db1151d-5bdf-4ad6-978a-79ef39c2057b",
   "metadata": {},
   "outputs": [],
   "source": [
    "##32  Define a method move in the Animal class that prints \"Animal moves\". Override the move method in the \n",
    "##     Dog class to print \"Dog runs\".\n",
    "\n",
    "\n",
    "\n",
    "\n",
    "# class Animal:\n",
    "#     def make_sound(self):\n",
    "#         print(\"Generic animal sound\")\n",
    "#     def move(self):\n",
    "#         print(\"Animal moves\")  \n",
    "# class Dog(Animal):\n",
    "#     def make_sound(self):\n",
    "#         print( \"Woof!\")\n",
    "#      def move(self):\n",
    "#          print(\"Dog runs\")\n",
    "# a = Dog()\n",
    "# a.move"
   ]
  },
  {
   "cell_type": "code",
   "execution_count": 8,
   "id": "a5ca3b27-3ea7-4ff3-959b-4707ebb2754a",
   "metadata": {},
   "outputs": [],
   "source": [
    "##33 Create a class Mammal with a method reproduce that prints \"Giving birth to live young.\" Create a class \n",
    "##   DogMammal inheriting from both Dog and Mammal.\n",
    "\n",
    "\n",
    "\n",
    "\n",
    "\n",
    "# class Mammal:\n",
    "#     def reproduce(self):\n",
    "#         print(\"Giving birth to live young.\")\n",
    "# class DogMammal(Dog,Mammal):\n",
    "#    pass"
   ]
  },
  {
   "cell_type": "code",
   "execution_count": 15,
   "id": "1d7a04bf-cb34-495c-bfcd-8c7c31331546",
   "metadata": {},
   "outputs": [],
   "source": [
    "##34  Create a class GermanShepherd inheriting from Dog and override the make_sound method to print \"Bark!\".\n",
    "\n",
    "\n",
    "\n",
    "\n",
    "# class GermanShepherd(Dog):\n",
    "#     def make_sound(self):\n",
    "#         print(\"Bark!\")\n",
    "# a = GermanShepherd()\n",
    "# a.make_sound()"
   ]
  },
  {
   "cell_type": "code",
   "execution_count": 105,
   "id": "d38bd3e1-8c42-4e85-ba11-2064c9c046fb",
   "metadata": {},
   "outputs": [],
   "source": [
    "##35  Define constructors in both the Animal and Dog classes with different initialization parameters.\n",
    "\n",
    "\n",
    "\n",
    "\n",
    "# class Animal:\n",
    "#     def __init__(self,name,age):\n",
    "#         self.name = name\n",
    "#         self.age = age\n",
    "#         print(f\"Animal name {self.name} and age {self.age}\")\n",
    "# class Dog(Animal):\n",
    "#     def __init__(self,color):\n",
    "#         self.color = color\n",
    "#         super().__init__(\"puppy\",15)\n",
    "#         print(f\"Animal name {self.name} ,age {self.age} and color {self.color}\")\n",
    "# obj1 = Animal(\"labrador\",20)\n",
    "# obj2 = Dog(\"red\")"
   ]
  },
  {
   "cell_type": "code",
   "execution_count": 189,
   "id": "3d9a81ee-b39f-4e78-9266-cd5ac0b397f9",
   "metadata": {},
   "outputs": [],
   "source": [
    "##36  What is abstraction in Python? How is it implemented.\n",
    "\n",
    "\n",
    "\n",
    "\n",
    "# Abstraction is a concept in oop that means hiding the internal details and showing only the essential feature of an object.\n",
    "\n",
    "# import abc\n",
    "# class car(abc.ABC):\n",
    "#     def property(self):\n",
    "#         return \"it has 4 wheel\"            \n",
    "#     @abc.abstractmethod\n",
    "#     def speed(self):\n",
    "#         pass\n",
    "# class maruti(car):\n",
    "#     def speed(self):\n",
    "#         return \"40\"\n",
    "# obj = maruti()\n",
    "# obj.speed()"
   ]
  },
  {
   "cell_type": "code",
   "execution_count": 169,
   "id": "10b16c26-6038-4ce6-b652-4cf3c15d43aa",
   "metadata": {},
   "outputs": [],
   "source": [
    "##37  Explain the importance of abstraction in object-oriented programming.\n",
    "\n",
    "\n",
    "\n",
    "\n",
    "# simplifies complex system :- abstraction allow developers to work with a simplified model of the system , focusing on the essential\n",
    "#                              feature and behaviour.\n",
    "# Resuability and Modularity :- Abstraction encourages the development of components and classes by providing a clear interface that \n",
    "#                               can be used by different parts of the system.\n",
    "# flexibility and Adaptability :- abstraction allow for changing to the underlying implementation without affecting the higher level code.\n",
    "# Improve code Readability and maintainability :- By hiding complex implementaion details, abstraction makes the code easier to \n",
    "#                                                 understand and maintain."
   ]
  },
  {
   "cell_type": "code",
   "execution_count": 74,
   "id": "85ec0499-d4fb-4517-9ead-5152d7786ad2",
   "metadata": {},
   "outputs": [],
   "source": [
    "##38 How are abstract methods different from regular methods in Python?\n",
    "\n",
    "\n",
    "\n",
    "\n",
    "#1. abstract methods defined in an abstract base class and do not have an implementation. while regular methods have a complete implementation.\n",
    "#2. abstract methods can't be called directly through instance of the class .while regular method can be called directly through \n",
    "#        instance of the class. \n",
    "#3. abstract methods is created by @bstractmethod from abc module. while regular method don;t need any specific decorator to creat as method.\n",
    "#4. A class containing abstract methods cannot be instantiated unless all abstract methods are implemented in a subclass. \n",
    "#     while regular methods can be in  any class and do not restrict instantiation."
   ]
  },
  {
   "cell_type": "code",
   "execution_count": 134,
   "id": "962446e3-a385-4b4f-b49e-5b18fafe4d0b",
   "metadata": {},
   "outputs": [],
   "source": [
    "##39  How can you achieve abstraction using interfaces in Python?\n",
    "\n",
    "\n",
    "\n",
    "\n",
    "\n",
    "# import abc\n",
    "# class geometery(abc.ABC):\n",
    "#     @abc.abstractmethod\n",
    "#     def area(self):\n",
    "#         pass\n",
    "#     @abc.abstractmethod\n",
    "#     def perimeter(self):\n",
    "#         pass\n",
    "\n",
    "# class circle(geometery):\n",
    "#     def __init__(self,radius):\n",
    "#         self.radius = radius\n",
    "#     def area(self):\n",
    "#         return (3.14*(self.radius**2))\n",
    "#     def perimeter(self):\n",
    "#        return 2*3.14*self.radius\n",
    "# obj = circle(10)\n",
    "# obj.area()"
   ]
  },
  {
   "cell_type": "code",
   "execution_count": 155,
   "id": "aef36549-14e7-42ce-9f24-a0f88451a8c1",
   "metadata": {},
   "outputs": [],
   "source": [
    "##40 Can you provide an example of how abstraction can be utilized to create a common interface for a group of related classes in Python.\n",
    "\n",
    "\n",
    "\n",
    "\n",
    "\n",
    "# from abc import ABC,abstractmethod\n",
    "# class shape(ABC):\n",
    "#     @abstractmethod\n",
    "#     def area(self):\n",
    "#         pass\n",
    "# class rectangle(shape):\n",
    "#     def __init__(self,l,b):\n",
    "#         self.l = l\n",
    "#         self.b = b\n",
    "#     def area(self):\n",
    "#         return self.l*self.b\n",
    "# class square(shape):\n",
    "#     def __init__(self,s):\n",
    "#         self.s = s\n",
    "#     def area(self):\n",
    "#         return self.s*self.s\n",
    "# obj1 = rectangle(20,10)\n",
    "# obj2 = square(25)\n",
    "# obj1.area(),obj2.area()"
   ]
  },
  {
   "cell_type": "code",
   "execution_count": 77,
   "id": "c6237fa4-afc6-464e-ae46-d379a4f36792",
   "metadata": {},
   "outputs": [],
   "source": [
    "##41  How does Python achieve polymorphism through method overriding.\n",
    "\n",
    "\n",
    "\n",
    "\n",
    "# python achieves polymorphism through method overriding using inheritance. when a child class defines a method with the \n",
    "# same name as a method in its parents class,it overrides the parents class."
   ]
  },
  {
   "cell_type": "code",
   "execution_count": 22,
   "id": "45329419-28f1-46a7-89c5-438cd12ba7d2",
   "metadata": {},
   "outputs": [],
   "source": [
    "##42 Define a base class with a method and a subclass that overrides the method.\n",
    "\n",
    "\n",
    "\n",
    "\n",
    "# class Base_class:\n",
    "#     def display(self):\n",
    "#         print(\"This is method from the BaseClass\")\n",
    "# class sub_class(Base_class):\n",
    "#     def display(self):\n",
    "#         print(\" This is method from the subClass\")\n",
    "# obj = sub_class()\n",
    "# obj.display()"
   ]
  },
  {
   "cell_type": "code",
   "execution_count": 25,
   "id": "025224c1-f80c-4ed9-b5d1-747d7ed1cd95",
   "metadata": {},
   "outputs": [],
   "source": [
    "##43 Define a base class and multiple subclasses with overridden methods.\n",
    "\n",
    "\n",
    "\n",
    "\n",
    "\n",
    "# class Base_class:\n",
    "#     def display(self):\n",
    "#         print(\"This is method from the BaseClass\")\n",
    "# class sub_class:\n",
    "#     def Display(self):\n",
    "#         print(\" This is method from the subClass\")\n",
    "# class mult_sub_class(Base_class,sub_class):\n",
    "#     def display(self):\n",
    "#          print(\"This is method override the Base_class\")\n",
    "# obj =  mult_sub_class()\n",
    "# obj.display()"
   ]
  },
  {
   "cell_type": "code",
   "execution_count": 77,
   "id": "b205479a-c181-40a1-a98e-13bd0a4bee23",
   "metadata": {},
   "outputs": [],
   "source": [
    "##44 How does polymorphism improve code readability and reusability?\n",
    "\n",
    "\n",
    "\n",
    "#  polymorphism improves code readability and reusability by allowing the same method or function name to work\n",
    "#  with different types of objects, making the code more general,flexible and easier to maintain."
   ]
  },
  {
   "cell_type": "code",
   "execution_count": 3,
   "id": "347abaf4-3b97-4433-881a-39533e8aac82",
   "metadata": {},
   "outputs": [],
   "source": [
    "##45 Describe how Python supports polymorphism with duck typing.\n",
    "\n",
    "\n",
    "\n",
    "\n",
    "\n",
    "# python achieves polymorphism  through duck typing ,a concept where an object's suitability is determined by its \n",
    "# behaviour rather than its class.\n",
    "# class dog:\n",
    "#     def speak(self):\n",
    "#         return \"I am a dog\"\n",
    "# class cat:\n",
    "#     def speak(self):\n",
    "#         return 'I am a cat'\n",
    "# def animal(an):\n",
    "#     return an.speak()\n",
    "# obj1 = dog()\n",
    "# obj2 = cat()\n",
    "# The animal function doesn't care what type of object it receives, it only assumes that the object has a speak() mehod\n",
    "# print(animal(obj1))\n",
    "# print(animal(obj2))"
   ]
  },
  {
   "cell_type": "code",
   "execution_count": 82,
   "id": "2698a1bc-27b0-4f92-b9ac-c8606280d25e",
   "metadata": {},
   "outputs": [],
   "source": [
    "##46 How do you achieve encapsulation in Python?\n",
    "\n",
    "\n",
    "\n",
    "# encapsulation refers to restricting access to internal object details and exposing only what's necessary.\n",
    "# it has access modifier which is public, private, protected.\n",
    "# by default, a variable becomes a public attribute of a class through self.something .\n",
    "# private member: it is achieved by self.__something \n",
    "# ptotected member: it is achieved by self._something"
   ]
  },
  {
   "cell_type": "code",
   "execution_count": 11,
   "id": "e90b37dc-473e-4aed-a512-716a808b2b53",
   "metadata": {},
   "outputs": [],
   "source": [
    "##47 Can encapsulation be bypassed in Python? If so, how?\n",
    "\n",
    "\n",
    "\n",
    "\n",
    "\n",
    "# yes, encapsulation in python can be bypassed via several way \n",
    "# class example:\n",
    "#     def __init__(self):\n",
    "#         self.public = \"it is public text\"\n",
    "#         self._protected ='it is protected text in python '\n",
    "#         self.__private = 'it is private text which is important' \n",
    "#     def private(self):\n",
    "#         return self.__private\n",
    "# obj = example()\n",
    "# print(obj.public) # it is way to access the public variable of class example\n",
    "# print(obj._protected)   # it is way to access the protected variable of class example\n",
    "# print(obj._example__private)  # it is one way to access the private variable through class name of class example\n",
    "# print(obj.private()) # it is another way to access the private variable through method name,if private variable exist in these calss"
   ]
  },
  {
   "cell_type": "code",
   "execution_count": 10,
   "id": "4a55605a-3f6c-466d-b8ca-34567f25ba4d",
   "metadata": {},
   "outputs": [],
   "source": [
    "##48 Implement a class BankAccount with a private balance attribute. Include methods to deposit, withdraw, \n",
    "##   and check the balance\n",
    "\n",
    "\n",
    "\n",
    "\n",
    "\n",
    "# class BankAccount:\n",
    "#     def __init__(self,balance):\n",
    "#         self.__balance = balance\n",
    "#     def deposit(self,deposit)\n",
    "#         self.__balance = self.__balance + deposit   \n",
    "#     def withdraw(self,amount):\n",
    "#         if self.__balance > amount:\n",
    "#             self.__balance = self.__balance - amount\n",
    "#             return True\n",
    "#         else:\n",
    "#             return False\n",
    "#     def check_the_Balance(self):\n",
    "#        return self.__balance \n",
    "# obj = BankAccount(2000)\n",
    "# obj.deposit(1000)\n",
    "# obj.withdraw(1525)\n",
    "# obj.check_the_Balance()"
   ]
  },
  {
   "cell_type": "code",
   "execution_count": 21,
   "id": "a038b36a-0ae0-466a-a549-95eb19ef676a",
   "metadata": {},
   "outputs": [],
   "source": [
    "##49 Develop a Person class with private attributes name and email, and methods to set and get the email.\n",
    "\n",
    "\n",
    "\n",
    "\n",
    "# class person:\n",
    "#     def __init__(self,name,email):\n",
    "#         self.__name = name\n",
    "#         self.__email = email\n",
    "#     def set_email(self,email):\n",
    "#         self.__email = email\n",
    "#     def get__email(self):\n",
    "#        return self.__email"
   ]
  },
  {
   "cell_type": "code",
   "execution_count": 86,
   "id": "7088aac0-80bc-4c55-b69a-596bf5808e08",
   "metadata": {},
   "outputs": [],
   "source": [
    "##50 Why is encapsulation considered a pillar of object-oriented programming (OOP)?\n",
    "\n",
    "\n",
    "\n",
    "\n",
    "# Encapsulation is considered one of the four main pillar of oop ,abstraction, inheritance and polymorohism.\n",
    "\n",
    "# Encapsulation allows developers to hide internal detail of an object and control access to its data.\n",
    "# It is promotes modularity by bundling data and methods together making it easier to create reusable components.\n",
    "# It is provides security access to an object's internal state.\n",
    "# It enables abstraction by hiding the implementation of an object and exposing only the necessary interface ."
   ]
  },
  {
   "cell_type": "code",
   "execution_count": 87,
   "id": "6fedad40-389e-4edf-8fdb-1c765592c2df",
   "metadata": {},
   "outputs": [],
   "source": [
    "##51 Create a decorator in Python that adds functionality to a simple function by printing a message before \n",
    "## and after the function execution.\n",
    "\n",
    "\n",
    "\n",
    "# def print_message(func):\n",
    "#     def wrapper():\n",
    "#         print(\"Something is happening before function\")\n",
    "#         func()\n",
    "#         print(\"Something is happening after function\")\n",
    "#     return wrapper\n",
    "# @print_message\n",
    "# def say_hello():\n",
    "#     print(\"hello\")"
   ]
  },
  {
   "cell_type": "code",
   "execution_count": 2,
   "id": "387da921-b383-4442-a58c-adc451cbd61f",
   "metadata": {},
   "outputs": [],
   "source": [
    "##52 Modify the decorator to accept arguments and print the function name along with the message.\n",
    "\n",
    "\n",
    "\n",
    "\n",
    "# def decorator(func):\n",
    "#     def wrapper(*args,**kwargs):\n",
    "#         print(f'{func.__name__} it is comes from  decorator function')\n",
    "#         func(*args,**kwargs)\n",
    "#     return wrapper\n",
    "# @decorator\n",
    "# def say_hello(name, marks = 100):\n",
    "#     print(f'{name} got {marks} marks in maths')\n",
    "# say_hello( \"himanshu\" ,94)"
   ]
  },
  {
   "cell_type": "code",
   "execution_count": 28,
   "id": "8e376886-b5d3-4113-aef9-481d7c70325e",
   "metadata": {},
   "outputs": [],
   "source": [
    "##53 Create two decorators and apply them to a single function. Ensure that they execute in the order they are applied.\n",
    "\n",
    "\n",
    "\n",
    "# def decorator_1(func):\n",
    "#     def wrapper():\n",
    "#         print(\"decorator_1 : Before function\")\n",
    "#         func()\n",
    "#         print(\"decorator_1 : After function\")\n",
    "#     return wrapper\n",
    "# def decorator_2(func):\n",
    "#     def wrapper():\n",
    "#         print(\"decorator_2 : Before function\")\n",
    "#         func()\n",
    "#         print(\"decorator_2 : After function\")\n",
    "#     return wrapper\n",
    "# @decorator_1\n",
    "# @decorator_2\n",
    "# def say_hello():\n",
    "#     print(\"Hello the function\") \n",
    "# say_hello()"
   ]
  },
  {
   "cell_type": "code",
   "execution_count": 90,
   "id": "5e6a1b12-35f0-421e-801c-9672ad851987",
   "metadata": {},
   "outputs": [],
   "source": [
    "##54 Modify the decorator to accept and pass function arguments to the wrapped function.\n",
    "\n",
    "\n",
    "\n",
    "\n",
    "# def decorator(func):\n",
    "#     def wrapper(*args,**kwargs):\n",
    "#         print(f'{func.__name__} it is comes from  decorator function')\n",
    "#         func(*args,**kwargs)\n",
    "#     return wrapper\n",
    "# @decorator\n",
    "# def say_hello(name, marks = 100):\n",
    "#     print(f'{name} got {marks} marks in maths')\n",
    "# say_hello( \"himanshu\" ,94)\n"
   ]
  },
  {
   "cell_type": "code",
   "execution_count": 91,
   "id": "3cc0d437-a344-40dd-a77b-7a3a7cdf3ab5",
   "metadata": {},
   "outputs": [],
   "source": [
    "##55 Create a decorator that preserves the metadata of the original function.\n",
    "\n",
    "\n",
    "\n"
   ]
  },
  {
   "cell_type": "code",
   "execution_count": 1,
   "id": "2284277c-fbab-4bfe-b259-7ce2f3241351",
   "metadata": {},
   "outputs": [],
   "source": [
    "##56 Create a Python class `Calculator` with a static method `add` that takes in two numbers and returns their sum.\n",
    "\n",
    "\n",
    "\n",
    "\n",
    "# class calculator:\n",
    "#     @staticmethod\n",
    "#     def add(a,b):\n",
    "#         return a+b\n",
    "# calculator.add(10,11)"
   ]
  },
  {
   "cell_type": "code",
   "execution_count": 43,
   "id": "906e5a68-9796-4c03-a49a-9b2a01745641",
   "metadata": {},
   "outputs": [],
   "source": [
    "##57 Create a Python class `Employee` with a class method 'get_employee_count` that returns the total number of employees created.\n",
    "\n",
    "\n",
    "\n",
    "\n",
    "# class Employee:\n",
    "#     count=0\n",
    "#     def __init__(self,name):\n",
    "#         self.name = name\n",
    "#         Employee.count += 1\n",
    "#     @classmethod\n",
    "#     def get_employee_count(cls):\n",
    "#         return cls.count\n",
    "# ob1 = Employee(\"himanshu\")\n",
    "# ob2 = Employee(\"Aman\")\n",
    "# Employee.get_employee_count()"
   ]
  },
  {
   "cell_type": "code",
   "execution_count": 2,
   "id": "4c76caf9-b3ef-41e1-89e3-b4321914a7ac",
   "metadata": {},
   "outputs": [],
   "source": [
    "##58 Create a Python class `StringFormatter` with a static method `reverse_string` that takes a string as input \n",
    "##   and returns its reverse.\n",
    "\n",
    "\n",
    "\n",
    "\n",
    "# class StringFormatter:\n",
    "#     @staticmethod\n",
    "#     def reverse_string(str1):\n",
    "#         if isinstance(str1,str):\n",
    "#             return str1[::-1]\n",
    "#         else:\n",
    "#             return False\n",
    "# StringFormatter.reverse_string(\"Himanshu\")"
   ]
  },
  {
   "cell_type": "code",
   "execution_count": 35,
   "id": "0357bee1-9850-4d46-80c9-bd050fc66d40",
   "metadata": {},
   "outputs": [],
   "source": [
    "##59 Create a Python class `Circle` with a class method `calculate_area` that calculates the area of a circle given its radius.\n",
    "\n",
    "\n",
    "\n",
    "\n",
    "#class circle:\n",
    "#     @classmethod\n",
    "#     def calculate_area(cls,radius1):\n",
    "#         return (3.14*radius1*radius1)\n",
    "# obj = circle()\n",
    "# obj.calculate_area(10)"
   ]
  },
  {
   "cell_type": "code",
   "execution_count": 51,
   "id": "3be490b7-62f4-4dd7-a6fa-61f444a20fe9",
   "metadata": {},
   "outputs": [],
   "source": [
    "##60. Create a Python class `TemperatureConverter` with a static method `celsius_to_fahrenheit` that converts Celsius to Fahrenheit.\n",
    "\n",
    "\n",
    "\n",
    "# class TemperatureConverter:\n",
    "#     @staticmethod\n",
    "#     def celsius_to_fahrenheit(Celsius ):\n",
    "#         return ( Celsius*9/5 ) + 32\n",
    "# obj = TemperatureConverter.celsius_to_fahrenheit(50)\n",
    "# obj"
   ]
  },
  {
   "cell_type": "code",
   "execution_count": 76,
   "id": "ee57e827-2db0-451a-a2ea-b49337106e6d",
   "metadata": {},
   "outputs": [],
   "source": [
    "##61 What is the purpose of the __str__() method in Python classes? Provide an example.\n",
    "\n",
    "\n",
    "\n",
    "\n",
    "# The __str__() is dunder method in python defines the string representation of an class .\n",
    "\n",
    "# class str1:\n",
    "#     def __init__(self,name,marks):\n",
    "#         self.name = name\n",
    "#         self.marks = marks\n",
    "#     def __str__(self):\n",
    "#         return f\"hello {self.name},your marks is {self.marks}\"\n",
    "# obj = str1(\"himanshu\", 94)\n",
    "# str(obj)"
   ]
  },
  {
   "cell_type": "code",
   "execution_count": 73,
   "id": "e09145a3-ba9f-48a0-9835-688fe0f8f6d9",
   "metadata": {},
   "outputs": [],
   "source": [
    "##62 How does the __len__() method work in Python? Provide an example.\n",
    "\n",
    "\n",
    "\n",
    "\n",
    "# The __len__() method in python is a special method used to define the behaviour of the built-in len() function for instances of your class.\n",
    "\n",
    "# class lent:\n",
    "#     def __init__(self,str1):\n",
    "#         self.str1 = str1 \n",
    "#     def __len__(self):\n",
    "#        return len(self.str1)\n",
    "# obj = lent(\"himanshu\")  \n",
    "# print(len(obj))"
   ]
  },
  {
   "cell_type": "code",
   "execution_count": 66,
   "id": "02be3cc2-0a3d-4653-979a-894a6d772b43",
   "metadata": {},
   "outputs": [],
   "source": [
    "##63 Explain the usage of the __add__() method in Python classes. Provide an example.\n",
    "\n",
    "\n",
    "\n",
    "\n",
    "#  it is special method used to define the behaviour of + operator for instance of class. when you use x + y,\n",
    "#  where x and y are two different instance of same class, python call x.__add__(Y) .\n",
    "# class add:\n",
    "#     def __init__(self,a,b):\n",
    "#         self.a = a\n",
    "#         self.b = b\n",
    "#     def __add__(self,var):\n",
    "#         return self.a+var.a , self.b+var.b\n",
    "# obj1 = add(2,5)\n",
    "# obj2 = add(7,8)\n",
    "# print(obj1 + obj2)"
   ]
  },
  {
   "cell_type": "code",
   "execution_count": 100,
   "id": "308936eb-f412-4936-8a91-a438c39fc576",
   "metadata": {},
   "outputs": [],
   "source": [
    "##64 What is the purpose of the __getitem__() method in Python? Provide an example.\n",
    "\n"
   ]
  },
  {
   "cell_type": "code",
   "execution_count": 101,
   "id": "ed67eba7-9806-4da9-95c6-ef94b23c5ca4",
   "metadata": {},
   "outputs": [],
   "source": [
    "##65 Explain the usage of the __iter__() and __next__() methods in Python. Provide an example using iterators.\n",
    "\n",
    "\n",
    "\n",
    "# The  __iter__() method in python are used to make objects iterable.it return the iterator object itself.\n",
    "# The  __next__() returns the next item in the sequence."
   ]
  },
  {
   "cell_type": "code",
   "execution_count": 93,
   "id": "685dd922-12f2-48a0-a098-2697e6dc208c",
   "metadata": {},
   "outputs": [],
   "source": [
    "##66 What is the purpose of a getter method in Python? Provide an example demonstrating the use of a getter \n",
    "##   method using property decorators\n",
    "\n",
    "\n",
    "\n",
    "\n",
    "# Getter methods in python are used to access the attributes of a class. that aims to proctect the internal state of an object by controlling \n",
    "# the access to its attributes.\n",
    "# class student:\n",
    "#     def __init__(self,name,marks):\n",
    "#         self.__name = name\n",
    "#         self.__marks = marks\n",
    "#     @property\n",
    "#     def access(self):\n",
    "#         return self.__marks #it is getter method using @property decorator.\n",
    "        \n",
    "# obj = student(\"ram\",40)\n",
    "# obj.access"
   ]
  },
  {
   "cell_type": "code",
   "execution_count": 92,
   "id": "006a9f8e-672a-44ed-b415-aeec3d80ffe2",
   "metadata": {},
   "outputs": [],
   "source": [
    "##67 Explain the role of setter methods in Python. Demonstrate how to use a setter method to modify a class \n",
    "##   attribute using property decorators.\n",
    "\n",
    "\n",
    "\n",
    "\n",
    "# setter method is used to set or update the value of a class attribute,controls access to private attributes and maintains encapsulation.\n",
    "# class student:\n",
    "#     def __init__(self, name,price):\n",
    "#         self.__name = name\n",
    "#         self.__price = price\n",
    "#     @property\n",
    "#     def access_price(self):\n",
    "#         return self.__price\n",
    "#     @access_price.setter\n",
    "#     def price_set(self,new):\n",
    "#         self.__price = self.__price - new\n",
    "# obj = student(\"pankaj\",4000)\n",
    "# obj.access_price\n",
    "# obj.price_set = 10 \n",
    "# obj.price_set"
   ]
  },
  {
   "cell_type": "code",
   "execution_count": 97,
   "id": "2d22953d-1002-4bb6-a700-f4dda5b5c3f2",
   "metadata": {},
   "outputs": [],
   "source": [
    "##68 What is the purpose of the @property decorator in Python? Provide an example illustrating its usage.\n",
    "\n",
    "\n",
    "\n",
    "# The @property decorator is used to define getter methods that can be accessed like attributes, providing a clean and pythonic way to \n",
    "# encapsulation access to instance variable.\n",
    "\n",
    "# class circle:\n",
    "#     def __init__(self,radius):\n",
    "#         self._radius = radius\n",
    "#     @property\n",
    "#     def area(self):\n",
    "#         return (3.14*(self._radius**2))\n",
    "\n",
    "# obj = circle(10)\n",
    "# obj.area        "
   ]
  },
  {
   "cell_type": "code",
   "execution_count": 108,
   "id": "9b708228-f4db-4932-864d-be0f1da99ab2",
   "metadata": {},
   "outputs": [],
   "source": [
    "##69 Explain the use of the @deleter decorator in Python property decorators. Provide a code example demonstrating its application.\n",
    "\n",
    "\n",
    "\n",
    "\n",
    "# The @deleter decorator in python is used within the context of the @property decorator to define a method that is called when an attribute\n",
    "#  is deleted using the del statement .\n",
    "\n",
    "# class circle:\n",
    "#     def __init__(self,radius,name):\n",
    "#         self.__name = name\n",
    "#         self._radius = radius\n",
    "#     @property\n",
    "#     def radius(self):\n",
    "#         return self._radius , self.__name\n",
    "#     @radius.setter\n",
    "#     def set_radius(self,new):\n",
    "#         self._radius = new\n",
    "#     @radius.deleter\n",
    "#     def delete(self):\n",
    "#         del self.__name\n",
    "# obj = circle(10,\"equilateral triangle\")\n",
    "# obj.set_radius = 70\n",
    "# obj.radius\n",
    "# del obj.delete"
   ]
  },
  {
   "cell_type": "code",
   "execution_count": 109,
   "id": "52f249ec-b62b-40ee-8923-cc3651cf24e9",
   "metadata": {},
   "outputs": [],
   "source": [
    "##70 How does encapsulation relate to property decorators in Python? Provide an example showcasing \n",
    "##   encapsulation using property decorators.\n",
    "\n"
   ]
  },
  {
   "cell_type": "code",
   "execution_count": null,
   "id": "3a7a47a7-e8fd-4de3-8d55-ae5b6c069cea",
   "metadata": {},
   "outputs": [],
   "source": []
  }
 ],
 "metadata": {
  "kernelspec": {
   "display_name": "Python 3 (ipykernel)",
   "language": "python",
   "name": "python3"
  },
  "language_info": {
   "codemirror_mode": {
    "name": "ipython",
    "version": 3
   },
   "file_extension": ".py",
   "mimetype": "text/x-python",
   "name": "python",
   "nbconvert_exporter": "python",
   "pygments_lexer": "ipython3",
   "version": "3.13.1"
  }
 },
 "nbformat": 4,
 "nbformat_minor": 5
}
